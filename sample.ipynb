{
 "cells": [
  {
   "cell_type": "code",
   "execution_count": null,
   "metadata": {},
   "outputs": [],
   "source": [
    "import os\n",
    "import shutil\n",
    "import random\n",
    "\n",
    "def sample_dataset(data_dir, output_dir, sample_size=100):\n",
    "    # Define subdirectories\n",
    "    # subdirs = [\"images\", \"binary_mask\", \"obj\", \"ref\"]\n",
    "    subdirs = [name for name in os.listdir(data_dir) if os.path.isdir(os.path.join(data_dir, name))]\n",
    "    \n",
    "    # Create output directories with the same structure\n",
    "    for subdir in subdirs:\n",
    "        os.makedirs(os.path.join(output_dir, subdir), exist_ok=True)\n",
    "    \n",
    "    # Sample files\n",
    "    sample_files = random.sample(os.listdir(os.path.join(data_dir, 'images')), sample_size)\n",
    "    \n",
    "    # Copy sampled files to new location\n",
    "    for file in sample_files:\n",
    "        for subdir in subdirs:\n",
    "            src_path = os.path.join(data_dir, subdir, file)\n",
    "            dst_path = os.path.join(output_dir, subdir, file)\n",
    "            shutil.copy(src_path, dst_path)\n",
    "    print(f\"Sampled {sample_size} images and related files to {output_dir}\")\n",
    "\n",
    "# Usage\n",
    "data_directory = '/data2/om/LightGlue/data/msd'\n",
    "output_directory = '/data2/om/LightGlue/data/small_msd'\n",
    "sample_dataset(data_directory, output_directory)\n"
   ]
  },
  {
   "cell_type": "code",
   "execution_count": 31,
   "metadata": {},
   "outputs": [
    {
     "name": "stdout",
     "output_type": "stream",
     "text": [
      "{'4927_512x640.png', '1433_512x640.png', '3424_512x640.png', '3517_512x640.png', '5159_512x640.png', '117_640x512.png', '5175_512x640.png', '318_512x640.png', '5444_512x640.png', '1791_512x640.png', '5516_512x640.png', '1944_512x640.png', '428_640x512.png', '4740_512x640.png', '1350_512x640.png', '982_512x640.png', '474_512x640.png', '2763_512x640.png', '2996_512x640.png', '1842_512x640.png'}\n",
      "{'5444_512x640.png', '1791_512x640.png', '3424_512x640.png', '5516_512x640.png', '5175_512x640.png', '318_512x640.png', '2763_512x640.png', '1842_512x640.png', '5159_512x640.png'}\n",
      "removing file 5444_512x640.png\n",
      "removing file 1791_512x640.png\n",
      "removing file 3424_512x640.png\n",
      "removing file 5516_512x640.png\n",
      "removing file 5175_512x640.png\n",
      "removing file 318_512x640.png\n",
      "removing file 2763_512x640.png\n",
      "removing file 1842_512x640.png\n",
      "removing file 5159_512x640.png\n"
     ]
    }
   ],
   "source": [
    "import os\n",
    "def delete_duplicate_files(folder_path1, folder_path2):\n",
    "    files1 = set(os.listdir(folder_path1))\n",
    "    files2 = set(os.listdir(folder_path2))\n",
    "    print(files2)\n",
    "    duplicate_files = files1.intersection(files2)\n",
    "    print(duplicate_files)\n",
    "    for file in duplicate_files:\n",
    "        print(\"removing file\", file)\n",
    "        os.remove(os.path.join(folder_path2, file))\n",
    "\n",
    "delete_duplicate_files(\"/data/om/reflection_anydoor/dataset/test/images\", \"/data/om/reflection_anydoor/SYM_MASK/DEFORMED_TESTSET_EPOCH410\")\n"
   ]
  },
  {
   "cell_type": "code",
   "execution_count": 30,
   "metadata": {},
   "outputs": [
    {
     "name": "stdout",
     "output_type": "stream",
     "text": [
      "{'3117_640x512.png', '1020_512x640.png', '1397_512x640.png', '4927_512x640.png', '2246_512x640.png', '3494_512x640.png', '374_640x512.png', '2354_512x640.png', '931_512x640.png', '2465_512x640.png', '4189_512x640.png', '4179_512x640.png', '3896_512x640.png', '2068_512x640.png', '3852_640x512.png', '4825_512x640.png', '1944_512x640.png', '1401_512x640.png', '1525_640x512.png', '3035_640x512.png', '5443_640x512.png', '2214_512x640.png', '982_512x640.png', '474_512x640.png', '2996_512x640.png', '2535_512x640.png', '560_512x640.png', '314_512x640.png', '5320_512x640.png', '3114_512x640.png', '3551_512x640.png', '3885_512x640.png', '1023_512x640.png', '4651_512x640.png', '1044_512x640.png', '2294_512x640.png', '3997_640x512.png', '254_512x640.png', '1331_640x512.png', '2427_512x640.png', '1260_512x640.png', '3516_512x640.png', '4797_512x640.png', '2871_512x640.png', '3140_512x640.png', '428_640x512.png', '4323_512x640.png', '3982_512x640.png', '1291_512x640.png', '5203_640x512.png', '1368_512x640.png', '2475_512x640.png', '2812_512x640.png', '27_512x640.png', '2753_512x640.png', '1538_512x640.png', '1183_640x512.png', '1433_512x640.png', '2789_512x640.png', '1255_512x640.png', '2878_512x640.png', '1340_512x640.png', '4242_640x512.png', '117_640x512.png', '1193_512x640.png', '2683_640x512.png', '1213_640x512.png', 'output', '1405_512x640.png', '5489_640x512.png', '4509_512x640.png', '120_640x512.png', '500_640x512.png', '4172_512x640.png', '1596_512x640.png', '1889_512x640.png', '4961_512x640.png', '4740_512x640.png', '1220_512x640.png', '1350_512x640.png', '291_640x512.png', '5525_640x512.png', '3821_512x640.png', '3280_512x640.png', '1815_512x640.png', '2097_512x640.png', '2813_512x640.png', '3336_512x640.png', '3517_512x640.png', '3815_512x640.png', '1422_512x640.png', '2531_512x640.png', '349_512x640.png', '5278_512x640.png', '141_512x640.png', '1537_512x640.png', '3872_512x640.png', '3720_512x640.png', '1302_512x640.png', '2471_512x640.png', '1692_512x640.png', '247_512x640.png', '2866_640x512.png', '1027_512x640.png', '811_512x640.png', '1594_512x640.png', '2877_640x512.png', '1997_512x640.png', '4516_512x640.png', '1703_512x640.png', '2524_512x640.png', '4479_512x640.png'}\n",
      "set()\n"
     ]
    }
   ],
   "source": [
    "delete_duplicate_files(\"/data/om/reflection_anydoor/dataset/test/images\", \"/data/om/reflection_anydoor/REV_MASK/DEFORMED_TESTSET_EPOCH999\")\n"
   ]
  },
  {
   "cell_type": "code",
   "execution_count": null,
   "metadata": {},
   "outputs": [],
   "source": [
    "selected_files = [\"5443_640x512.png\", \"7_512x640.png\", \"5449_640x512.png\", \"4936_512x640.png\", \"4607_512x640.png\", \"4480_512x640.png\" \"4452_512x640.png\"]"
   ]
  }
 ],
 "metadata": {
  "kernelspec": {
   "display_name": "anydoor",
   "language": "python",
   "name": "python3"
  },
  "language_info": {
   "codemirror_mode": {
    "name": "ipython",
    "version": 3
   },
   "file_extension": ".py",
   "mimetype": "text/x-python",
   "name": "python",
   "nbconvert_exporter": "python",
   "pygments_lexer": "ipython3",
   "version": "3.9.19"
  }
 },
 "nbformat": 4,
 "nbformat_minor": 2
}
